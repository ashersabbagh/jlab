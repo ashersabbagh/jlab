{
 "cells": [
  {
   "cell_type": "code",
   "execution_count": 3,
   "metadata": {},
   "outputs": [],
   "source": [
    "import numpy as np\n",
    "import scipy as sp\n",
    "import math\n",
    "import matplotlib\n",
    "import matplotlib.pyplot as plt\n",
    "from scipy.stats import norm"
   ]
  },
  {
   "cell_type": "code",
   "execution_count": 15,
   "metadata": {},
   "outputs": [],
   "source": [
    "headerlen = 13\n",
    "footerlen = 14\n",
    "\n",
    "def getData(path):\n",
    "    with open(path, 'r') as file:\n",
    "        totdata = []\n",
    "        # Iterate over lines\n",
    "        for line in file:\n",
    "            # Process each line and append to the list\n",
    "            totdata.append(line.strip())\n",
    "        header = totdata[:headerlen-1]\n",
    "        data = [int(item) for item in totdata[headerlen:len(totdata)-footerlen]]\n",
    "        footer = totdata[len(totdata)-footerlen:]\n",
    "    return (header, data, footer)"
   ]
  },
  {
   "cell_type": "code",
   "execution_count": 17,
   "metadata": {},
   "outputs": [],
   "source": [
    "data = getData('data/2024-25-09-0347-AC.Spe')[1]\n"
   ]
  },
  {
   "cell_type": "code",
   "execution_count": null,
   "metadata": {},
   "outputs": [],
   "source": [
    "def convertVoltageToTime(data):\n",
    "    placeholder = 0\n",
    "    for i in range(len(data)):\n",
    "        if data[i]=="
   ]
  }
 ],
 "metadata": {
  "kernelspec": {
   "display_name": "base",
   "language": "python",
   "name": "python3"
  },
  "language_info": {
   "codemirror_mode": {
    "name": "ipython",
    "version": 3
   },
   "file_extension": ".py",
   "mimetype": "text/x-python",
   "name": "python",
   "nbconvert_exporter": "python",
   "pygments_lexer": "ipython3",
   "version": "3.9.12"
  }
 },
 "nbformat": 4,
 "nbformat_minor": 2
}
